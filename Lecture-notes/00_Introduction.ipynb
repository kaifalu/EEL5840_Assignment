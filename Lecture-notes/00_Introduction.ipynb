{
 "cells": [
  {
   "cell_type": "markdown",
   "metadata": {},
   "source": [
    "# 00 - Course Introduction"
   ]
  },
  {
   "cell_type": "markdown",
   "metadata": {},
   "source": [
    "- *Course Overview*:  Introduction to machine learning and its role in variety of real-world problems in areas such as remote sensing and image processing.\n",
    "\n",
    "- So,  what is machine learning?  \n",
    "\n",
    " *One definition of Machine Learning: Area of study to develop methods for computers to make (intelligent?) decisions without being explicitly programmed.*\n",
    " \n",
    "\n",
    "- Supervised Learning: Learning a mapping from input data to desired output values given labeled training data\n",
    "\n",
    "\n",
    "<img src=\"figures/supervised_learning_parrot.png\" alt=\"Supervised Learning example\" style=\"width: 500px;\"/>\n",
    "\n",
    "\n",
    "- The above was a classification example.  Each data point was classified into a discrete class (either conure or macaw).  Regression is also commonly a supervised learning problem. \n",
    "\n",
    "\n",
    "<img src=\"figures/silhoutte_regression.png\" alt=\"Supervised Learning example\" style=\"width: 300px;\"/>\n",
    "\n",
    "\n",
    "- The usual flow (but not always) for supervised learning is:\n",
    "\n",
    "    - Training\n",
    "<img src=\"figures/trainingoverview.png\" alt=\"Supervised Learning example\" style=\"width: 8000px;\"/>\n",
    "\n",
    "    - Testing\n",
    "<img src=\"figures/testingoverview.png\" alt=\"Supervised Learning example\" style=\"width: 8000px;\"/>\n",
    "Machine Learning is not magic. It is not a hands-off process. Successful machine learning implementations require a lot of guidance, see the video below by running the cell (select the cell and click run in the toolbar on top of the page)."
   ]
  },
  {
   "cell_type": "code",
   "execution_count": null,
   "metadata": {},
   "outputs": [],
   "source": [
    "from tweet_ml import Tweet\n",
    "%run tweet_ml.py\n",
    "Tweet(s)"
   ]
  },
  {
   "cell_type": "markdown",
   "metadata": {},
   "source": [
    "- Subset of challenges include:\n",
    "    - How do you know if you have *representative* training data? \n",
    "    - How do you know if you extracted *good* features?\n",
    "    - How do you know if you selected the *right* model? \n",
    "    - How do you know if you trained the model *well*?\n",
    "    \n",
    "- Many of these issues are alleviated (not solved entirely, but helped significantly) with *LOTS AND LOTS* of data and good experimental design.\n",
    "\n",
    "<img src=\"figures/datacomic.png\" style=\"width: 400px;\"/>\n",
    "\n",
    "- Quality of data has an outsized impact on the success/performance of a model.\n",
    "\n",
    "<img src=\"figures/data_cleaning.png\" style=\"width: 400px;\"/>\n",
    "src: <a> https://twitter.com/womenindataorg/status/1425482655433478144?s=20</a>\n",
    "\n",
    "- Obtaining labeled training data is hard, expensive, time consuming and, in some cases, infeasible\n",
    "\n",
    "<img src=\"figures/hsicube.png\" style=\"width: 400px;\"/>\n",
    "\n",
    "<img src=\"figures/neon.png\" style=\"width: 400px;\"/>\n",
    "\n",
    "*from NEON: https://www.neonscience.org*\n",
    "\n",
    "\n",
    "- Unsupervised Learning: Learning structure from data without any labels \n",
    "\n",
    "<img src=\"figures/balls.png\" style=\"width: 400px;\"/>\n",
    "\n",
    "<!-- <img src=\"figures/dataUSL.png\" style=\"width: 400px;\"/>\n",
    "\n",
    "<img src=\"figures/dataUSL2.png\" style=\"width: 400px;\"/>\n",
    "\n",
    "<img src=\"figures/dataUSL3.png\" style=\"width: 400px;\"/> -->"
   ]
  },
  {
   "cell_type": "markdown",
   "metadata": {},
   "source": [
    "- There are many sub-areas in machine learning:\n",
    "    - **Supervised Learning**: learn from labeled data\n",
    "    - **Unsupervised Learning**: learn from unlabeled data\n",
    "    - **Semi-supervised Learning**: some training data labeled, some not, use all during training\n",
    "    - **Reinforcement Learning**: reinforcement based on action in an environment so to maximize/minimize a reward/penalty\n",
    "    - **Multiple Instance Learning**: labels have a particular form of imprecision\n",
    "    - **Active Learning**: obtaining labels online from a user/oracle in an intelligent fashion\n",
    "    - **Transfer Learning**: having labels on a related problem and transferring it to the task of interest\n",
    "    - **Structured Learning**\n",
    "    - **Associative Learning**\n",
    "    - *many more*...\n",
    "\n",
    "\n",
    "- Most of us interact with systems that leverage machine learning regularly:\n",
    "    - Alexa/Siri\n",
    "    - Search result sorting\n",
    "    - Recommendation systems (Netflix, Amazon, Twitter news feed, Facebook news feed)\n",
    "    - Google map updates via street view /  predict crowds on buses/trains/streets (https://ai.googleblog.com/2017/05/updating-google-maps-with-deep-learning.html; https://techcrunch.com/2019/06/27/google-maps-can-now-predict-how-crowded-your-bus-or-train-will-be/)\n",
    "    - Facial recognition (iPhone FaceID, JetBlue http://mediaroom.jetblue.com/investor-relations/press-releases/2018/11-15-2018-184045420) \n",
    "    - Hiring systems (https://www.reuters.com/article/us-amazon-com-jobs-automation-insight/amazon-scraps-secret-ai-recruiting-tool-that-showed-bias-against-women-idUSKCN1MK08G)\n",
    "    - Learning-driven home automation systems (e.g., NEST)\n",
    "    - Anywhere there is a computer making an automated decision, it could have been trained using machine learning\n",
    "    \n",
    "- What do you predict will be the capabilities and limitations of machine learning-driven technology in 20 years?\n",
    "    - For comparison/reference, in 2000 (a little more than 20 years ago), the state of technology was: \n",
    "        - people are using mostly flip phones (iPod introduced 2001; iPhone introduced 2007)\n",
    "        - Camera phones just recently introduced (first camera phone sold in 2000)\n",
    "        - Netflix launched as a DVD rental service\n",
    "        - AOL instant messenger was popular\n",
    "        - Many had dial up internet at home\n",
    "        - Napster was a popular peer-to-peer sharing service\n",
    "        - CD-ROMs commonly used\n",
    "        - USB thumb drives were not available (came on market late 2000)\n",
    "        - Very few people were using Google (founded in 1998; people were more commonly using Yahoo, Altavista, etc)\n",
    "       \n"
   ]
  },
  {
   "cell_type": "code",
   "execution_count": null,
   "metadata": {},
   "outputs": [],
   "source": []
  }
 ],
 "metadata": {
  "kernelspec": {
   "display_name": "Python 3",
   "language": "python",
   "name": "python3"
  },
  "language_info": {
   "codemirror_mode": {
    "name": "ipython",
    "version": 3
   },
   "file_extension": ".py",
   "mimetype": "text/x-python",
   "name": "python",
   "nbconvert_exporter": "python",
   "pygments_lexer": "ipython3",
   "version": "3.8.8"
  }
 },
 "nbformat": 4,
 "nbformat_minor": 4
}
