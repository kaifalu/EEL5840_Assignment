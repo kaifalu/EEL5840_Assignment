{
 "cells": [
  {
   "cell_type": "markdown",
   "metadata": {},
   "source": [
    "# Recall Machine Learning General Workflow"
   ]
  },
  {
   "cell_type": "markdown",
   "metadata": {},
   "source": [
    "* Training: \n",
    "    <li> Collect and Label Data </li>\n",
    "    <li> Extract Features </li>\n",
    "    <li> Select and Train a Model </li>\n",
    "    \n",
    "* Testing:\n",
    "     <li> Extract (same) Features on Test data </li>\n",
    "     <li> Apply trained model</li>\n",
    "     \n",
    "\n",
    "* <emph>Lets first discuss selecting and training a model.  </emph>\n",
    "\n",
    "<img src=\"figures/modeling.png\" style=\"width: 500px;\"/>\n",
    "-<a href=\"https://twitter.com/DarceyNLP/status/1425484082478264327?s=20\">Source link: Twitter</a>\n",
    "\n",
    "* In terms of selecting a model, usually the simplest model that works is best.  Model selection is still very much an open problem. We will cover several models in this course.  Best practice for model selection is driven primarily by good experimental design and testing. \n",
    "<img src=\"figures/KISS.png\"  style=\"width: 500px;\"/>\n",
    "-<a href=\"https://twitter.com/autobencoder/status/1425839428254277636?s=20 \">Source link: Twitter</a>\n",
    "\n",
    "\n",
    "* Once you have selected a model, you need to train it.  Parts of learning/training a model can be summarized by the following slide: \n",
    "<img src=\"figures/parts_of_learning.png\"  style=\"width: 700px;\"/>\n",
    "-<a href=\"https://twitter.com/mdekstrand/status/1373400822470504451?s=20\">Source link: M. Ekstrand on Twitter</a>"
   ]
  },
  {
   "cell_type": "markdown",
   "metadata": {},
   "source": [
    "# Polynomial Curve Fitting Example"
   ]
  },
  {
   "cell_type": "markdown",
   "metadata": {},
   "source": [
    "* Lets begin by considering the polynomial curve fitting example in the first chapter of the text. \n",
    "* Suppose we have a training set with $N$ data samples, $\\mathbf{x} = (x_1, x_2, \\ldots, x_N)^T$ and corresponding desired outputs $\\mathbf{t} = (t_1, t_2, \\ldots, t_N)^T$ where sample $x_i$ has the desired label $t_i$\n",
    "\n",
    "* We generally organize data into *vectors* and *matrices*. Not only is it a common way to organize the data, but it allows us to easily apply linear algebraic operations during analysis.\n"
   ]
  },
  {
   "cell_type": "markdown",
   "metadata": {},
   "source": [
    "* Suppose the data actually came from some unknown hidden function. \n",
    "* In practice/application, we only have the training data and its corresponding desired values (both of which may be noisy).  From this training data, we want to learn a mapping from input values $x$ to the desired output values $t$. \n",
    "* If we knew the hidden function, we would not need to learn the mapping - we would already know it.  However, since we do not know the true underlying function, we need to do our best to estimate from the examples of input-output pairs that we have.\n",
    "* We will learn (i.e., train a model to estimate) that mapping from the training data $\\left\\{ \\mathbf{x}, \\mathbf{t} \\right\\}$. \n",
    "* Then, when we are given test data, we can predict each test data point's $t$ value using the mapping that we estimated. \n",
    "\n",
    "* For this problem, we assume that the original data $x$ is sufficient and appropriate (so, we do not need to preprocess or extract features).  Then, we have completed steps 1 and 2 of the general approach listed in Section 0 above.\n",
    "\n",
    "* Now we must assume a model.  Lets assume a polynomial function as our model (following the example in the text):  \n",
    "\\begin{eqnarray}\n",
    "y(x,\\mathbf{w}) = w_0 + w_1x + w_2x^2 + \\ldots + w_Mx^M = \\sum_{j=0}^M w_jx^j\n",
    "\\end{eqnarray}\n",
    "\n",
    "* Now we must *train* this model by estimating the unknown parameters ($\\mathbf{w}$) that maps the training data, $\\mathbf{x}$, to their desired values, $\\mathbf{t}$, given some assumed value for $M$\n",
    "\n",
    "* So, we have $N$ discrete points from which to estimate $\\mathbf{w}$.  We can minimize the squared error to estimate the parameters:\n",
    "\t\\begin{eqnarray}\n",
    "\t\t\\arg \\min_\\mathbf{w} E(\\mathbf{w}) &=& \\frac{1}{2} \\sum_{n=1}^N \\left( y(x_n, \\mathbf{w}) - t_n\\right)^2\\\\\n",
    "\t\t&=& \\frac{1}{2} \\sum_{n=1}^N \\left(\\sum_{j=0}^M w_jx_n^j -t_n \\right)^2\n",
    "\t \\end{eqnarray}\n",
    "* Consider the following illustration of the error function: \n",
    "<img src=\"figures/fig1.jpg\"  style=\"width: 200px;\"/>\n",
    "The red lines correspond to the error between the data and the functional approximation.  \n",
    "\n",
    "*  We can write the error function compactly in matrix/vector form: \n",
    "\t \\begin{eqnarray} \\nonumber\n",
    "\t \tE(\\mathbf{w}) &=& \\frac{1}{2} \\left( \\left[w_0, w_1, \\ldots, w_M \\right] \\left[ \\begin{array}{c c c c} 1 & 1 & \\ldots & 1\\\\ x_1 & x_2 & \\ldots & x_N \\\\  x_1^2 & x_2^2 & \\ldots & x_N^2 \\\\ \\vdots & \\vdots & \\ddots & \\vdots \\\\  x_1^M & x_2^M & \\ldots & x_N^M \\end{array}\\right] - \\left[ t_1, t_2, \\ldots, t_N\\right]\\right)\\\\\n",
    "\t \t& & \\left( \\left[w_0, w_1, \\ldots, w_M \\right] \\left[ \\begin{array}{c c c c} 1 & 1 & \\ldots & 1\\\\ x_1 & x_2 & \\ldots & x_N \\\\  x_1^2 & x_2^2 & \\ldots & x_N^2 \\\\ \\vdots & \\vdots & \\ddots & \\vdots \\\\  x_1^M & x_2^M & \\ldots & x_N^M \\end{array}\\right]- \\left[ t_1, t_2, \\ldots, t_N\\right]\\right)^T \\nonumber\\\\\n",
    "        &=& \\frac{1}{2}  \\left( \\mathbf{w}^T\\mathbf{X}^T - \\mathbf{t}^T\\right)\\left( \\mathbf{w}^T\\mathbf{X}^T - \\mathbf{t}^T\\right)^T\\\\\n",
    "        &=& \\frac{1}{2}\\left\\| \\mathbf{w}^T\\mathbf{X}^T - \\mathbf{t}^T \\right\\|_2^2\n",
    "\t \\end{eqnarray}\n",
    "     where  \n",
    "     \\begin{eqnarray}\\mathbf{X}^T &=& \\left[ \\begin{array}{c c c c} 1 & 1 & \\ldots & 1\\\\ x_1 & x_2 & \\ldots & x_N \\\\  x_1^2 & x_2^2 & \\ldots & x_N^2 \\\\ \\vdots & \\vdots & \\ddots & \\vdots \\\\  x_1^M & x_2^M & \\ldots & x_N^M \\end{array}\\right]\\\\\n",
    "     &=& \\left[ \\mathbf{x}_1, \\mathbf{x}_2, \\ldots, \\mathbf{x}_N\\right]\n",
    "     \\end{eqnarray}\n",
    "    and\n",
    "    \\begin{eqnarray}\\mathbf{x}_i = \\left[x_i^0, x_i^1, x_i^2, \\ldots, x_i^M \\right]^T \\end{eqnarray}\n",
    "\n",
    "* So, we want $E(\\mathbf{w})$ to be small.  How do we solve for $\\mathbf{w}$?\n",
    "* We can take the derivative of the error function, set it to zero, and solve for the parameters.  In general, this method does not guarantee that the parameters we estimate are minima of the error function (e.g., may be an inflection point, maxima).  It is a necessary condition (but not sufficient). However, if the function is convex, then it will always find the global optima. \n",
    "\n",
    "* How do we take the derivative of a function with respect to a vector? \n",
    "\t \\begin{equation*}\n",
    "\\frac{\\partial}{\\partial \\mathbf{x}}f(\\mathbf{x}) =\\! \\left[\\frac{\\partial}{\\partial x_1}f(\\mathbf{x}),\\frac{\\partial}{\\partial x_2}f(\\mathbf{x}),\\ldots,\\frac{\\partial}{\\partial x_n}f(\\mathbf{x})\\right]^\\top\\!\\!\\in\\! \\mathcal{R}^{n \\times 1}.\n",
    "\\end{equation*}\n",
    "\n",
    "* So, what would the derivative of $E(\\mathbf{w})$ be with respect to $\\mathbf{w}$? \n",
    "\\begin{eqnarray}\n",
    " E(\\mathbf{w}) &=& \\frac{1}{2} \\sum_{n=1}^N \\left(\\sum_{j=0}^M w_jx_n^j -t_n \\right)^2\\\\\n",
    "\\frac{\\partial E(\\mathbf{w})}{\\partial \\mathbf{w}} &=& \\left[ \\frac{\\partial E(\\mathbf{w})}{\\partial w_0},  \\frac{\\partial E(\\mathbf{w})}{\\partial w_1}, \\ldots,  \\frac{\\partial E(\\mathbf{w})}{\\partial w_M} \\right]^T\\\\\n",
    "&=& \\left[ \\sum_{n=1}^N \\left( \\sum_{j=0}^M w_jx_n^j -t_n \\right)x_n^0 ,  \\sum_{n=1}^N \\left(  \\sum_{j=0}^M w_jx_n^j -t_n \\right)x_n^1 , \\ldots, \\sum_{n=1}^N \\left(  \\sum_{j=0}^M w_jx_n^j -t_n \\right)x_n^M  \\right]^T  \\nonumber\n",
    "\\end{eqnarray}\n",
    "\n",
    "* Similarly, \n",
    "\\begin{eqnarray}\n",
    "\t\t  \\frac{\\partial E(\\mathbf{w})}{\\partial \\mathbf{w}} &=& \\left[\\frac{1}{2} 2 \\left( \\mathbf{w}^T\\mathbf{X}^T - \\mathbf{t}^T\\right)\\mathbf{X}\\right]^T\n",
    "\t \\end{eqnarray}\n",
    "\twhere $\\mathbf{X}^T= \\left[ \\begin{array}{c c c c} 1 & 1 & \\ldots & 1\\\\ x_1 & x_2 & \\ldots & x_N \\\\  x_1^2 & x_2^2 & \\ldots & x_N^2 \\\\ \\vdots & \\vdots & \\ddots & \\vdots \\\\  x_1^M & x_2^M & \\ldots & x_N^M \\end{array}\\right]$.\n",
    "* Then, we can set the derivative to zero and solve: \n",
    "\\begin{eqnarray}\n",
    "\t\t & & 0 = \\mathbf{X}^T\\mathbf{X}\\mathbf{w} - \\mathbf{X}^T\\mathbf{t}\\\\\n",
    "\t\t & & \\mathbf{X}^T\\mathbf{t} = \\mathbf{X}^T\\mathbf{X}\\mathbf{w} \\\\\n",
    "\t\t & & \\mathbf{w} = \\left(\\mathbf{X}^T\\mathbf{X}\\right)^{-1}\\mathbf{X}^T\\mathbf{t}\n",
    "\t \\end{eqnarray}\n",
    "\n",
    "\n",
    "* Let's look at this more closely, suppose M = 2 and N = 2: \n",
    "\\begin{eqnarray} \\nonumber\n",
    "\t \tE(\\mathbf{w}) &=& \\frac{1}{2} \\left( \\left[w_0, w_1, w_2 \\right] \\left[ \\begin{array}{c c c c} 1 & 1 \\\\ x_1 & x_2  \\\\  x_1^2 & x_2^2  \\end{array}\\right] - \\left[ t_1, t_2 \\right]\\right) \\left( \\left[w_0, w_1, w_2 \\right] \\left[ \\begin{array}{c c c c} 1 & 1 \\\\ x_1 & x_2  \\\\  x_1^2 & x_2^2  \\end{array}\\right] - \\left[ t_1, t_2 \\right]\\right)^T \\nonumber \\\\\n",
    "\t \t&=&  \\frac{1}{2}\\left( \\left[ w_0 + w_1x_1 + w_2x_1^2, w_0 + w_1x_2 + w_2x_2^2 \\right]  - \\left[ t_1, t_2 \\right]\\right) \\nonumber\\\\\n",
    "\t \t& & \\left( \\left[ w_0 + w_1x_1 + w_2x_1^2, w_0 + w_1x_2 + w_2x_2^2 \\right]  - \\left[ t_1, t_2 \\right]\\right)^T \\nonumber\\\\\n",
    "\t \t&=&  \\frac{1}{2}\\left( \\left[ w_0 + w_1x_1 + w_2x_1^2 - t_1, w_0 + w_1x_2 + w_2x_2^2  - t_2\\right] \\right)\\nonumber\\\\\n",
    "\t \t& & \\left( \\left[ w_0 + w_1x_1 + w_2x_1^2 -t_1, w_0 + w_1x_2 + w_2x_2^2 -t_2 \\right] \\right)^T \\nonumber\\\\\n",
    "\t \t&=& \\frac{1}{2}  \\left( \\left(w_0 + w_1x_1 + w_2x_1^2 - t_1\\right)^2 +\\left(w_0 + w_1x_2 + w_2x_2^2 -t_2\\right)^2 \\right) \\nonumber\n",
    "\t \\end{eqnarray}\n",
    "* Then, let us work out the derivative with respect to the vector $\\mathbf{w}$\n",
    "\\begin{eqnarray} \\nonumber\n",
    "\t \t\\frac{\\partial E(\\mathbf{w})}{\\partial \\mathbf{w}} &=& \\left[\\frac{\\partial E(\\mathbf{w})}{\\partial {w}_0}, \\frac{\\partial E(\\mathbf{w})}{\\partial {w}_1}, \\frac{\\partial E(\\mathbf{w})}{\\partial {w}_2} \\right]^T\\nonumber\\\\\n",
    "\t \t%derivative with w_0\n",
    "\t \t&=& \\left[\\frac{1}{2}\\left( 2\\left(w_0 + w_1x_1 + w_2x_1^2 - t_1\\right)  + 2\\left(w_0 + w_1x_2 + w_2x_2^2 -t_2\\right) \\right), \\right. \\nonumber\\\\\n",
    "\t \t%derivative with w_1\n",
    "\t\t& & \\frac{1}{2}\\left( 2\\left(w_0 + w_1x_1 + w_2x_1^2 - t_1\\right)x_1   + 2\\left(w_0 + w_1x_2 + w_2x_2^2 -t_2\\right)x_2 \\right),  \\nonumber\\\\\n",
    "\t \t%derivative with w_2\n",
    "\t\t& & \\frac{1}{2}\\left( 2\\left(w_0 + w_1x_1 + w_2x_1^2 - t_1\\right)x_1^2 + \\left. 2\\left(w_0 + w_1x_2 + w_2x_2^2 -t_2\\right)x_2^2 \\right) \\right]^T \\nonumber\\\\\n",
    "\t\t&=& \\frac{1}{2} 2 \\left[ \\begin{array}{c c c c} 1 & 1 \\\\ x_1 & x_2  \\\\  x_1^2 & x_2^2  \\end{array}\\right]\\left(  \\left[w_0, w_1, w_2 \\right] \\left[ \\begin{array}{c c c c} 1 & 1 \\\\ x_1 & x_2  \\\\  x_1^2 & x_2^2  \\end{array}\\right] - \\left[ t_1, t_2 \\right] \\right)^T\n",
    "\t \\end{eqnarray}\n",
    "\n",
    "\n",
    "\n",
    "Thus, \n",
    "\\begin{eqnarray}\n",
    "\t\t & & 0 =  \\left( \\mathbf{w}^T\\mathbf{X}^T - \\mathbf{t}^T\\right)\\mathbf{X}\\\\\n",
    "        & & 0 =   \\mathbf{w}^T\\mathbf{X}^T\\mathbf{X} - \\mathbf{t}^T\\mathbf{X}\\\\        \n",
    "        & & \\mathbf{t}^T\\mathbf{X} = \\mathbf{w}^T\\mathbf{X}^T\\mathbf{X}\\\\\n",
    "        & & \\mathbf{t}^T\\mathbf{X}\\left(\\mathbf{X}^T\\mathbf{X}\\right)^{-1} = \\mathbf{w}^T\\mathbf{X}^T\\mathbf{X}\n",
    "        \\left(\\mathbf{X}^T\\mathbf{X}\\right)^{-1}\\\\\n",
    "         & &\\mathbf{t}^T\\mathbf{X}\\left(\\mathbf{X}^T\\mathbf{X}\\right)^{-1} = \\mathbf{w}^T\\\\\n",
    "         & &\\mathbf{w} = \\left(\\mathbf{X}^T\\mathbf{X}\\right)^{-1}\\mathbf{X}^T\\mathbf{t}\\\\\n",
    "\\end{eqnarray}\n",
    "\n",
    "\n",
    "\n",
    "## Apply to data generated from a (noisy) sine curve \n",
    "* Suppose our data actually came from: $t = \\sin(2\\pi x) + \\epsilon$ where $\\epsilon$ is Gaussian zero-mean random noise. \n",
    "* The univariate Gaussian Distribution: \n",
    "\t\\begin{eqnarray}\n",
    "\t\t\\mathcal{N}(x | \\mu, \\sigma^2) = \\frac{1}{(2\\pi \\sigma^2)^{1/2}} \\exp\\left\\{ - \\frac{1}{2\\sigma^2}(x - \\mu)^2\\right\\}\n",
    "\t\\end{eqnarray}\n",
    "\n",
    "<img src=\"figures/fig2.jpg\"  style=\"width: 200px;\"/>\n",
    "\n",
    "* If the noise is zero-mean Gaussian distributed, it is like we are saying there is a Gaussian around the true curve: \n",
    "\n",
    "<img src=\"figures/fig3.jpg\"  style=\"width: 200px;\"/>\n",
    "\n",
    "\\begin{eqnarray}\n",
    "\t\t t = y + \\epsilon\\\\\n",
    "\t\t \\epsilon = t - y\n",
    "\t \\end{eqnarray}\n",
    "\t where\n",
    "\t \\begin{eqnarray}\n",
    "\t \t\\epsilon \\sim \\mathcal{N}(0, \\sigma^2)\n",
    " \t \\end{eqnarray}\n",
    " \t thus\n",
    " \t \\begin{eqnarray}\n",
    " \t \t\\mathcal{N}(t-y|0,1) &\\propto& \\exp\\left\\{ -\\frac{1}{2} \\frac{(t-y-0)^2}{1^2} \\right\\}\\\\\n",
    " \t \t&=& \\exp\\left\\{ -\\frac{1}{2} (t-y)^2 \\right\\}\\\\\n",
    " \t \t&=&  \\exp\\left\\{ -E(\\mathbf{w}) \\right\\}\n",
    " \t\\end{eqnarray}\n",
    "\n",
    "* So, the squared error objective function, $E(\\mathbf{w})$, assumes Gaussian noise. \n",
    "* Another way to look at it: $t$ is distributed according to a Gaussian distribution with mean $y$\n",
    "\n",
    "* Also, *What is the multivariate Gaussian distribution?*\n",
    "\n",
    "* First, lets generate data from the *true* underlying function (which, in practice, we would not know)\n"
   ]
  },
  {
   "cell_type": "code",
   "execution_count": 1,
   "metadata": {},
   "outputs": [],
   "source": [
    "# %load ../HelperCode/generateUniformData.py\n",
    "import numpy as np\n",
    "import math \n",
    "\n",
    "def generateUniformData(N, l, u, gVar):\n",
    "\t'''generateUniformData(N, l, u, gVar): Generate N uniformly spaced data points \n",
    "    in the range [l,u) with zero-mean Gaussian random noise with standard deviation gVar'''\n",
    "\t# x = np.random.uniform(l,u,N)\n",
    "\tstep = (u-l)/(N)\n",
    "\tx = np.arange(l+step/2,u+step/2,step)\n",
    "\te = np.random.normal(0,gVar,N)\n",
    "\tt = np.sin(2*math.pi*x) + e\n",
    "\treturn x,t\n"
   ]
  },
  {
   "cell_type": "markdown",
   "metadata": {},
   "source": [
    "* Lets plot this data and the underlying *true* function"
   ]
  },
  {
   "cell_type": "code",
   "execution_count": 2,
   "metadata": {},
   "outputs": [],
   "source": [
    "# %load ../HelperCode/plotData.py\n",
    "import matplotlib.pyplot as plt\n",
    "def plotData(x1,t1,x2,t2,x3=None,t3=None,legend=[]):\n",
    "\n",
    "    #plot everything\n",
    "    p1 = plt.plot(x1, t1, 'bo') #plot training data\n",
    "    p2 = plt.plot(x2, t2, 'g') #plot true value\n",
    "    if(x3 is not None):\n",
    "        p3 = plt.plot(x3, t3, 'r') \n",
    "\n",
    "    #add title, legend and axes labels\n",
    "    plt.ylabel('t') #label x and y axes\n",
    "    plt.xlabel('x')\n",
    "    \n",
    "    if(x3 is None):\n",
    "        plt.legend((p1[0],p2[0]),legend)\n",
    "    else:\n",
    "        plt.legend((p1[0],p2[0],p3[0]),legend)\n"
   ]
  },
  {
   "cell_type": "code",
   "execution_count": 19,
   "metadata": {},
   "outputs": [
    {
     "data": {
      "image/png": "[encoded data removed]",
      "text/plain": [
       "<Figure size 432x288 with 1 Axes>"
      ]
     },
     "metadata": {
      "needs_background": "light"
     },
     "output_type": "display_data"
    }
   ],
   "source": [
    "import matplotlib.pyplot as plt\n",
    "import textwrap\n",
    "%matplotlib inline\n",
    "\n",
    "l = 0\n",
    "u = 1\n",
    "N = 1000\n",
    "gVar = .5\n",
    "data_uniform  = np.array(generateUniformData(N, l, u, gVar)).T\n",
    "\n",
    "x1 = data_uniform[:,0]\n",
    "t1 = data_uniform[:,1]\n",
    "\n",
    "x2 = np.arange(l,u,0.001)  #get equally spaced points in the xrange\n",
    "t2 = np.sin(2*math.pi*x2) #compute the true function value\n",
    "    \n",
    "fig = plt.figure()\n",
    "plotData(x1, t1, x2, t2,legend=['Training Data', 'True Function'])"
   ]
  },
  {
   "cell_type": "markdown",
   "metadata": {},
   "source": [
    "* Now lets fit the data using the polynomial curve fitting approach"
   ]
  },
  {
   "cell_type": "code",
   "execution_count": 22,
   "metadata": {},
   "outputs": [
    {
     "data": {
      "text/plain": [
       "array([ 2.14299030e-02,  2.59606579e+00,  6.49221556e+01, -5.60044782e+02,\n",
       "        2.27939990e+03, -5.83763988e+03,  9.27204980e+03, -8.67957954e+03,\n",
       "        4.37730519e+03, -9.19070570e+02])"
      ]
     },
     "execution_count": 22,
     "metadata": {},
     "output_type": "execute_result"
    },
    {
     "data": {
      "image/png": "[encoded data removed]",
      "text/plain": [
       "<Figure size 432x288 with 1 Axes>"
      ]
     },
     "metadata": {
      "needs_background": "light"
     },
     "output_type": "display_data"
    }
   ],
   "source": [
    "def fitdata(x,t,M):\n",
    "\t'''fitdata(x,t,M): Fit a polynomial of order M to the data (x,t)'''\t\n",
    "\t#This needs to be filled in\n",
    "\tX = np.array([x**m for m in range(M+1)]).T\n",
    "\tw = np.linalg.inv(X.T@X)@X.T@t\n",
    "\treturn w\n",
    "\n",
    "        \n",
    "M = 9\n",
    "w = fitdata(x1,t1,M)\n",
    "xrange = np.arange(l,u,0.001)  #get equally spaced points in the xrange\n",
    "X = np.array([xrange**m for m in range(w.size)]).T  #extract the same features on test data\n",
    "esty = X@w #compute the predicted value\n",
    "plotData(x1,t1,x2,t2,xrange,esty,['Training Data', 'True Function', 'Estimated\\nPolynomial'])\n",
    "w"
   ]
  },
  {
   "cell_type": "code",
   "execution_count": null,
   "metadata": {},
   "outputs": [],
   "source": []
  }
 ],
 "metadata": {
  "kernelspec": {
   "display_name": "Python 3",
   "language": "python",
   "name": "python3"
  },
  "language_info": {
   "codemirror_mode": {
    "name": "ipython",
    "version": 3
   },
   "file_extension": ".py",
   "mimetype": "text/x-python",
   "name": "python",
   "nbconvert_exporter": "python",
   "pygments_lexer": "ipython3",
   "version": "3.8.8"
  }
 },
 "nbformat": 4,
 "nbformat_minor": 4
}
