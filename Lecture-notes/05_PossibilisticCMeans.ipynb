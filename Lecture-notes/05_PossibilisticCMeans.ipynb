{
 "cells": [
  {
   "cell_type": "markdown",
   "metadata": {},
   "source": [
    "# Possibilistic C Means Algorithm"
   ]
  },
  {
   "cell_type": "markdown",
   "metadata": {},
   "source": [
    "The PCM objective function is:\n",
    "\\begin{equation}\n",
    "J = \\sum_{i=1}^N \\sum_{j=1}^M t_{ij}^q d(x_i, \\theta_j) + \\sum_{j=1}^M \\eta_j \\sum_{i=1}^N (1 - t_{ij})^q\n",
    "\\end{equation}\n",
    "where \n",
    "\\begin{eqnarray}\n",
    "t_{ij} \\in [0, 1] \\\\\n",
    "\\max_j t_ij > 0 \\quad \\forall i\\\\\n",
    "0 < \\sum_{i=1}^N t_{ij} \\le N \\quad \\forall j\n",
    "\\end{eqnarray}\n",
    "\n",
    "*What is the purpose of each term in the objective function?  What is the purpose of each constraint?*\n"
   ]
  },
  {
   "cell_type": "markdown",
   "metadata": {},
   "source": [
    "*Derive the update equation for the typicality values.*\n",
    "\\begin{equation}\n",
    "t_{ij} = \\frac{1}{1 + \\left( \\frac{d(x_i, \\theta_j)}{\\eta_j}\\right)^{\\frac{1}{q-1}}}\n",
    "\\end{equation}\n",
    "*Does this update equation make sense?  How do the typicalities differ from the FCM membership values?*\n",
    "*What is the role of the $\\eta_i$?  How would you set $\\eta_i$?*\n",
    "\n",
    "\n",
    "Possibilisitic C-Means Algorithm\n",
    "\n",
    "-Set number of clusters, M, and q\n",
    "\n",
    "Initialize cluster centers\n",
    "\n",
    "REPEAT \n",
    "\n",
    "    FOR{i = 1 to N}\n",
    "    \n",
    "        FOR{j = 1 to M}\n",
    "        \n",
    "            - $t_{ij} \\gets \\frac{1}{1 + \\left( \\frac{d(x_i, \\theta_j)}{\\eta_j}\\right)^{\\frac{1}{q-1}}}$\n",
    "            \n",
    "        ENDFOR\n",
    "        \n",
    "    ENDFOR\n",
    "    \n",
    "    FOR{j = 1 to M}\n",
    "    \n",
    "        - Update cluster representatives\n",
    "        \n",
    "    ENDFOR\n",
    "    \n",
    "UNTIL{ Change in cluster centers is small}\n",
    "\n",
    "\n",
    "\n",
    "*How would you update the cluster representatives?*"
   ]
  },
  {
   "cell_type": "code",
   "execution_count": null,
   "metadata": {},
   "outputs": [],
   "source": []
  }
 ],
 "metadata": {
  "kernelspec": {
   "display_name": "Python 3",
   "language": "python",
   "name": "python3"
  },
  "language_info": {
   "codemirror_mode": {
    "name": "ipython",
    "version": 3
   },
   "file_extension": ".py",
   "mimetype": "text/x-python",
   "name": "python",
   "nbconvert_exporter": "python",
   "pygments_lexer": "ipython3",
   "version": "3.8.8"
  }
 },
 "nbformat": 4,
 "nbformat_minor": 4
}
