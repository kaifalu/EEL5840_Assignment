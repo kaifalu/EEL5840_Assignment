{
 "cells": [
  {
   "cell_type": "markdown",
   "metadata": {},
   "source": [
    "\n",
    "## Overfitting/Overtraining\n",
    "\n",
    "* In the polynomial curve fitting example, $M$ is the *model order*. \n",
    "* As $M$ increases, there are more parameters (more $w$) to learn and, so, the model becomes more complex.  \n",
    "* As a model is more and more complex, it is more likely to *overfit* or *overtrain*.  This essentially means it may \"memorize\" the input training data (including all of the training data's noise).  \n",
    "* Overfitting means that the performance of the model will likely decrease on unknown test data.  Overfitting means that the \"true\" underlying model of the data is not estimated/learned but instead results in a poor representation that memorizes meaningless noise in the data.\n",
    "* There are two common approaches to avoid overfitting:\n",
    "     1. More data: As you have more and more data, it becomes more and more difficult to \"memorize\" the data and its noise. Often, more data translates to the ability to use a more complex model and avoid overfitting.  However, generally, you need exponentially more data with increases to model complexity.  So, there is a limit to how much this helps.  If you have a very complex model, you need a huge training data set. \n",
    "     2. Regularization: Regularization methods add a penalty term to the error function to discourage overfitting.  These penalty terms encourage small values limiting the ability to overfit.  (This is just a teaser. We will discuss this further in the future.)\n",
    "\n",
    "\n",
    "* You can also *underfit* your data.  When you underfit, your model complexity is not complex enough to model all of the complexities in your data. \n",
    "\n",
    "\n"
   ]
  },
  {
   "cell_type": "markdown",
   "metadata": {},
   "source": [
    "\n",
    "## Beer Foam Example\n",
    "\n",
    "* Lets go through the Polynomial Curve fitting again with another example\n",
    "* Obtained from: http://users.stat.ufl.edu/~winner/data/beer_foam.dat\n",
    "\n",
    "Source: A. Leike (2002). \"Demonstration of the Exponential Decay Law Using Beer Froth,\" European Journal of Physics, Vol. 23, #1, pp. 21-26\n",
    "\n",
    "Description: Measurements of wet foam height and beer height at various time points for 3 brands of beer. Author fits exponential decay model: $H(t) = H(0)e^{-\\lambda t}$\n",
    "\n",
    "Variables/Columns:\n",
    "<li> Time from pour (seconds)  4-8\n",
    "<li> Erdinger Weissbier foam height (cm)  10-16\n",
    "<li> Augustinerbrau Munchen foam height (cm)    18-24\n",
    "<li> Budweiser foam height (cm)    26-32\n"
   ]
  },
  {
   "cell_type": "code",
   "execution_count": 1,
   "metadata": {},
   "outputs": [],
   "source": [
    "# %load ../HelperCode/plotData.py\n",
    "import matplotlib.pyplot as plt\n",
    "def plotData(x1,t1,x2,t2,x3=None,t3=None,legend=[]):\n",
    "\n",
    "    #plot everything\n",
    "    p1 = plt.plot(x1, t1, 'bo') #plot training data\n",
    "    p2 = plt.plot(x2, t2, 'g') #plot true value\n",
    "    if(x3 is not None):\n",
    "        p3 = plt.plot(x3, t3, 'r') \n",
    "\n",
    "    #add title, legend and axes labels\n",
    "    plt.ylabel('t') #label x and y axes\n",
    "    plt.xlabel('x')\n",
    "    \n",
    "    if(x3 is None):\n",
    "        plt.legend((p1[0],p2[0]),legend)\n",
    "    else:\n",
    "        plt.legend((p1[0],p2[0],p3[0]),legend)\n"
   ]
  },
  {
   "cell_type": "code",
   "execution_count": 3,
   "metadata": {},
   "outputs": [],
   "source": [
    "import numpy as np\n",
    "def fitdata(x,t,M):\n",
    "\t'''fitdata(x,t,M): Fit a polynomial of order M to the data (x,t)'''\t\n",
    "\t#This needs to be filled in\n",
    "\tX = np.array([x**m for m in range(M+1)]).T\n",
    "\tw = np.linalg.inv(X.T@X)@X.T@t\n",
    "\treturn w"
   ]
  },
  {
   "cell_type": "code",
   "execution_count": 16,
   "metadata": {},
   "outputs": [
    {
     "name": "stdout",
     "output_type": "stream",
     "text": [
      "[ 1.39973990e+01 -1.82312421e-01  3.12156666e-03 -4.21840887e-05\n",
      "  3.02586205e-07 -5.71862804e-10 -5.81161038e-12  4.05138442e-14\n",
      " -9.89564906e-17  8.67513101e-20]\n"
     ]
    },
    {
     "data": {
      "image/png": "[encoded data removed]",
      "text/plain": [
       "<Figure size 432x288 with 1 Axes>"
      ]
     },
     "metadata": {
      "needs_background": "light"
     },
     "output_type": "display_data"
    }
   ],
   "source": [
    "\n",
    "\n",
    "#Load Data\n",
    "beerData = np.loadtxt('beer_foam.dat.txt')\n",
    "\n",
    "plt.scatter(beerData[:,0], beerData[:,1], color = \"red\")\n",
    "plt.scatter(beerData[:,0], beerData[:,2], color = \"blue\")\n",
    "plt.scatter(beerData[:,0], beerData[:,3], color = \"orange\")\n",
    "\n",
    "#Then we can fit the data using the polynomial curve fitting method we derived\n",
    "x = beerData[:,0]\n",
    "t = beerData[:,2]\n",
    "w = fitdata(x,t,M=9)\n",
    "print(w)"
   ]
  },
  {
   "cell_type": "code",
   "execution_count": 17,
   "metadata": {},
   "outputs": [
    {
     "name": "stdout",
     "output_type": "stream",
     "text": [
      "[1.00000000e+00 4.50000000e+02 2.02500000e+05 9.11250000e+07\n",
      " 4.10062500e+10 1.84528125e+13 8.30376562e+15 3.73669453e+18\n",
      " 1.68151254e+21 7.56680643e+23]\n",
      "951.5641557009658\n"
     ]
    },
    {
     "data": {
      "image/png": "[encoded data removed]",
      "text/plain": [
       "<Figure size 432x288 with 1 Axes>"
      ]
     },
     "metadata": {
      "needs_background": "light"
     },
     "output_type": "display_data"
    }
   ],
   "source": [
    "#Now let us use the weights in test\n",
    "xrange = np.arange(beerData[0,0],beerData[beerData.shape[0]-1,0]+150,0.001)  #get equally spaced points in the xrange\n",
    "X = np.array([xrange**m for m in range(w.size)]).T\n",
    "esty = X@w #compute the predicted value\n",
    "\n",
    "plotData(x,t,xrange,esty,legend=['Training Data','Estimated\\nPolynomial'])\n",
    "\n",
    "#What will the foam height be at t = ____? \n",
    "# Initialize 't' as float so below type is correct\n",
    "t_predict = np.float64(450)\n",
    "x_test = np.array([t_predict**m for m in range(w[:,None].size)]).T\n",
    "print(x_test)\n",
    "predicted_height = x_test@w\n",
    "print(predicted_height)"
   ]
  },
  {
   "cell_type": "code",
   "execution_count": null,
   "metadata": {},
   "outputs": [],
   "source": []
  },
  {
   "cell_type": "code",
   "execution_count": null,
   "metadata": {},
   "outputs": [],
   "source": []
  }
 ],
 "metadata": {
  "kernelspec": {
   "display_name": "Python 3",
   "language": "python",
   "name": "python3"
  },
  "language_info": {
   "codemirror_mode": {
    "name": "ipython",
    "version": 3
   },
   "file_extension": ".py",
   "mimetype": "text/x-python",
   "name": "python",
   "nbconvert_exporter": "python",
   "pygments_lexer": "ipython3",
   "version": "3.7.2"
  }
 },
 "nbformat": 4,
 "nbformat_minor": 4
}
